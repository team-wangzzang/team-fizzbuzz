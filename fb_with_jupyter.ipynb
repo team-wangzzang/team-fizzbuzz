{
 "cells": [
  {
   "cell_type": "code",
   "execution_count": 3,
   "id": "c4c8f641",
   "metadata": {},
   "outputs": [
    {
     "data": {
      "text/plain": [
       "[1,\n",
       " 2,\n",
       " 'fizz',\n",
       " 4,\n",
       " 'buzz',\n",
       " 'fizz',\n",
       " 7,\n",
       " 8,\n",
       " 'fizz',\n",
       " 'buzz',\n",
       " 11,\n",
       " 'fizz',\n",
       " 13,\n",
       " 14,\n",
       " 'fizzbuzz',\n",
       " 16]"
      ]
     },
     "execution_count": 3,
     "metadata": {},
     "output_type": "execute_result"
    }
   ],
   "source": [
    "[\n",
    "    'fizz'*(i%3==0)+'buzz'*(i%5==0)\n",
    "    if (i%3==0 or i%5==0) else i\n",
    "    for i in range(1,16+1)\n",
    "]"
   ]
  },
  {
   "cell_type": "code",
   "execution_count": null,
   "id": "16430bdd",
   "metadata": {},
   "outputs": [],
   "source": []
  }
 ],
 "metadata": {
  "kernelspec": {
   "display_name": "Python 3 (ipykernel)",
   "language": "python",
   "name": "python3"
  },
  "language_info": {
   "codemirror_mode": {
    "name": "ipython",
    "version": 3
   },
   "file_extension": ".py",
   "mimetype": "text/x-python",
   "name": "python",
   "nbconvert_exporter": "python",
   "pygments_lexer": "ipython3",
   "version": "3.11.0"
  }
 },
 "nbformat": 4,
 "nbformat_minor": 5
}
